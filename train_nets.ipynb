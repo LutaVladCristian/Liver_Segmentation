{
 "cells": [
  {
   "cell_type": "markdown",
   "id": "cb3a5df9",
   "metadata": {},
   "source": [
    "## In this Jupyter Notebook we will display the results after training of the model"
   ]
  },
  {
   "metadata": {},
   "cell_type": "markdown",
   "source": "##### Setting up the conda environment",
   "id": "d86914f49fac1551"
  },
  {
   "metadata": {
    "ExecuteTime": {
     "end_time": "2025-06-10T20:28:10.268396Z",
     "start_time": "2025-06-10T20:28:04.317909Z"
    }
   },
   "cell_type": "code",
   "source": [
    "!conda env create -f environment.yml\n",
    "!conda activate liver-segmentation"
   ],
   "id": "b62e8012034dec65",
   "outputs": [
    {
     "name": "stderr",
     "output_type": "stream",
     "text": [
      "\n",
      "EnvironmentFileNotFound: 'C:\\Users\\vlad_cristian.luta\\PycharmProjects\\liver-and-tumor-segmentation\\environment.yml' file not found\n",
      "\n"
     ]
    },
    {
     "name": "stdout",
     "output_type": "stream",
     "text": [
      "Failed to run 'conda activate liver-segmentation'.\n"
     ]
    },
    {
     "name": "stderr",
     "output_type": "stream",
     "text": [
      "\n",
      "EnvironmentNameNotFound: Could not find conda environment: liver-segmentation\n",
      "You can list all discoverable environments with `conda info --envs`.\n",
      "\n",
      "\n"
     ]
    }
   ],
   "execution_count": 2
  },
  {
   "metadata": {},
   "cell_type": "markdown",
   "source": "##### Importing the libraries",
   "id": "96000eda"
  },
  {
   "metadata": {},
   "cell_type": "code",
   "outputs": [],
   "execution_count": null,
   "source": [
    "import os\n",
    "from glob import glob\n",
    "import shutil\n",
    "import dicom2nifti\n",
    "import nibabel as nib\n",
    "import numpy as np\n",
    "\n",
    "from scripts.prepare import divide_groups, convert_nif, remove_empty_groups"
   ],
   "id": "ea815e7f"
  },
  {
   "cell_type": "markdown",
   "id": "6cb9bdee",
   "metadata": {},
   "source": "##### Setting the path to the working directories"
  },
  {
   "metadata": {},
   "cell_type": "code",
   "outputs": [],
   "execution_count": null,
   "source": [
    "# The input paths for the dicom files\n",
    "in_path = ['data_set/dicom_files_testing/images',\n",
    "            'data_set/dicom_files_testing/labels',\n",
    "            'data_set/dicom_files_training/images',\n",
    "            'data_set/dicom_files_training/labels',\n",
    "            'data_set/dicom_files_validation/images',\n",
    "            'data_set/dicom_files_validation/labels']\n",
    "\n",
    "# The output paths for the dicom files split into equal groups\n",
    "group_path = ['data_set_group/dicom_files_testing/images',\n",
    "            'data_set_group/dicom_files_testing/labels',\n",
    "            'data_set_group/dicom_files_training/images',\n",
    "            'data_set_group/dicom_files_training/labels',\n",
    "            'data_set_group/dicom_files_validation/images',\n",
    "            'data_set_group/dicom_files_validation/labels']\n",
    "\n",
    "# The output paths for the nifti files\n",
    "nif_path = ['data_set_group_nif/nif_files_testing/images',\n",
    "            'data_set_group_nif/nif_files_testing/labels',\n",
    "            'data_set_group_nif/nif_files_training/images',\n",
    "            'data_set_group_nif/nif_files_training/labels',\n",
    "            'data_set_group_nif/nif_files_validation/images',\n",
    "            'data_set_group_nif/nif_files_validation/labels']"
   ],
   "id": "790dbd62"
  },
  {
   "metadata": {},
   "cell_type": "markdown",
   "source": "##### Divide pacients into groups (prepare data)",
   "id": "33a723d6"
  },
  {
   "metadata": {},
   "cell_type": "code",
   "outputs": [],
   "execution_count": null,
   "source": [
    "divide_groups(in_path, group_path, 16)\n",
    "\n",
    "convert_nif(group_path, nif_path)\n",
    "\n",
    "remove_empty_groups(nif_path)"
   ],
   "id": "b5586891"
  },
  {
   "metadata": {},
   "cell_type": "markdown",
   "source": "##### Divide pacients into groups (prepare data)",
   "id": "27f7b7db3b41f4a0"
  },
  {
   "metadata": {},
   "cell_type": "code",
   "outputs": [],
   "execution_count": null,
   "source": "",
   "id": "c4a443078209c6d1"
  },
  {
   "metadata": {},
   "cell_type": "markdown",
   "source": "",
   "id": "b3dc07b5d9f2939e"
  },
  {
   "metadata": {},
   "cell_type": "code",
   "outputs": [],
   "execution_count": null,
   "source": "",
   "id": "e43de1e018abcd97"
  },
  {
   "metadata": {},
   "cell_type": "markdown",
   "source": "##### Loading the model",
   "id": "68910213"
  },
  {
   "metadata": {},
   "cell_type": "code",
   "outputs": [],
   "execution_count": null,
   "source": [
    "# Load the model\n",
    "model = UNet(\n",
    "    spatial_dims=3,\n",
    "    in_channels=1,\n",
    "    out_channels=2,\n",
    "    channels=(16, 32, 64, 128, 256),\n",
    "    strides=(2, 2, 2, 2),\n",
    "    num_res_units=2,\n",
    "    norm=Norm.BATCH,\n",
    ").to(device)\n",
    "\n",
    "model.load_state_dict(torch.load(os.path.join(model_path, 'best_metric_model.pth')))\n",
    "\n",
    "# Set the model to evaluation mode\n",
    "model.eval()"
   ],
   "id": "12a7a20b"
  }
 ],
 "metadata": {
  "kernelspec": {
   "display_name": "Python 3 (ipykernel)",
   "language": "python",
   "name": "python3"
  },
  "language_info": {
   "codemirror_mode": {
    "name": "ipython",
    "version": 3
   },
   "file_extension": ".py",
   "mimetype": "text/x-python",
   "name": "python",
   "nbconvert_exporter": "python",
   "pygments_lexer": "ipython3",
   "version": "3.10.0"
  }
 },
 "nbformat": 4,
 "nbformat_minor": 5
}
