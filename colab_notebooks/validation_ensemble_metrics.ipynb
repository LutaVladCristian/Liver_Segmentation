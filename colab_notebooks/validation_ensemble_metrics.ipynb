{
 "cells": [
  {
   "cell_type": "markdown",
   "id": "cb3a5df9",
   "metadata": {},
   "source": [
    "## In this Jupyter Notebook we will display the metrics calculated after training the models"
   ]
  },
  {
   "cell_type": "markdown",
   "id": "96000eda",
   "metadata": {},
   "source": [
    "##### Importing the libraries"
   ]
  },
  {
   "cell_type": "code",
   "execution_count": 11,
   "id": "ea815e7f",
   "metadata": {},
   "outputs": [],
   "source": [
    "from monai.utils import first\n",
    "from monai.networks.nets import UNet, SegResNet, AttentionUnet, UNETR, VNet\n",
    "from monai.networks.layers import Norm\n",
    "from monai.metrics import HausdorffDistanceMetric\n",
    "from monai.data import DataLoader, CacheDataset\n",
    "from monai.losses import DiceLoss\n",
    "from monai.transforms import Activations, AsDiscrete\n",
    "\n",
    "from monai.transforms import(\n",
    "    Compose,\n",
    "    LoadImaged,\n",
    "    EnsureChannelFirstd,\n",
    "    Spacingd,\n",
    "    Orientationd,\n",
    "    ScaleIntensityRanged,\n",
    "    CropForegroundd,\n",
    "    Resized,\n",
    "    EnsureTyped,\n",
    "    ToTensord,\n",
    ")\n",
    "\n",
    "import torch\n",
    "import torch.nn.functional as F\n",
    "import seaborn as sns\n",
    "import matplotlib.pyplot as plt\n",
    "from sklearn.metrics import confusion_matrix\n",
    "import os\n",
    "from glob import glob\n",
    "import numpy as np\n",
    "from pathlib import Path"
   ]
  },
  {
   "cell_type": "markdown",
   "id": "6cb9bdee",
   "metadata": {},
   "source": [
    "##### Setting the path to the directory where the model is saved and the path to the directory where the test data is stored"
   ]
  },
  {
   "cell_type": "code",
   "execution_count": 2,
   "id": "790dbd62",
   "metadata": {},
   "outputs": [
    {
     "name": "stdout",
     "output_type": "stream",
     "text": [
      "Using device:  cuda:0 \n",
      "\n"
     ]
    }
   ],
   "source": [
    "os.environ['KMP_DUPLICATE_LIB_OK'] = \"1\"\n",
    "\n",
    "# Set the device to cuda\n",
    "device = torch.device(\"cuda:0\" if torch.cuda.is_available() else \"cpu:0\")\n",
    "print(\"Using device: \", device, \"\\n\")\n",
    "\n",
    "# Paths to the validation set and the model\n",
    "validation_path = '../data_set_group_nif/nif_files_validation'\n",
    "\n",
    "path_validation_volumes = glob(os.path.join(validation_path, 'images/*'))\n",
    "path_validation_labels = glob(os.path.join(validation_path, 'labels/*'))\n",
    "\n",
    "validation_files = [{'image': image_name, 'label': label_name} for image_name, label_name in zip(path_validation_volumes, path_validation_labels)]"
   ]
  },
  {
   "cell_type": "markdown",
   "id": "33a723d6",
   "metadata": {},
   "source": [
    "##### Aplying the transformations to the validation data"
   ]
  },
  {
   "cell_type": "code",
   "execution_count": 3,
   "id": "b5586891",
   "metadata": {
    "jupyter": {
     "is_executing": true
    }
   },
   "outputs": [
    {
     "name": "stderr",
     "output_type": "stream",
     "text": [
      "Loading dataset: 100%|███████████████████████████████████████████████████████████████████████████████████████████████████████████████████████████████████████████████████████████████████████████| 292/292 [03:02<00:00,  1.60it/s]\n"
     ]
    }
   ],
   "source": [
    "# Transforms for the validation set\n",
    "validation_transforms = Compose(\n",
    "    [\n",
    "        LoadImaged(keys=[\"image\", \"label\"]),\n",
    "        EnsureChannelFirstd(keys=[\"image\", \"label\"]),\n",
    "        Spacingd(keys=[\"image\", \"label\"], pixdim=(0.7871384, 0.7871384, 1.2131842), mode=(\"bilinear\", \"nearest\")),\n",
    "        Orientationd(keys=[\"image\", \"label\"], axcodes=\"RAS\"),\n",
    "        ScaleIntensityRanged(keys=[\"image\"], a_min=-200, a_max=250,b_min=0.0, b_max=1.0, clip=True),\n",
    "        CropForegroundd(keys=[\"image\", \"label\"], source_key='image', allow_smaller=True),\n",
    "        Resized(keys=[\"image\", \"label\"], spatial_size=(128, 128, 32)),\n",
    "        EnsureTyped(keys=[\"image\", \"label\"]),\n",
    "        ToTensord(keys=[\"image\", \"label\"]),\n",
    "    ]\n",
    ")\n",
    "\n",
    "# Create the validation dataset\n",
    "validation_ds = CacheDataset(data=validation_files, transform=validation_transforms)\n",
    "validation_loader = DataLoader(validation_ds, batch_size=1)"
   ]
  },
  {
   "cell_type": "markdown",
   "id": "68910213",
   "metadata": {},
   "source": [
    "##### Loading the models"
   ]
  },
  {
   "cell_type": "code",
   "execution_count": 4,
   "id": "12a7a20b",
   "metadata": {},
   "outputs": [],
   "source": [
    "# Initialize the models\n",
    "model1 = UNETR(\n",
    "    img_size=(128, 128, 32),\n",
    "    in_channels=1,\n",
    "    out_channels=2,\n",
    "    feature_size=32,\n",
    "    hidden_size=384,\n",
    "    mlp_dim=1536,\n",
    "    num_heads=6,\n",
    "    norm_name=\"instance\",\n",
    "    res_block=True,\n",
    "    dropout_rate=0.0\n",
    ").to(device)\n",
    "\n",
    "model2 = AttentionUnet(\n",
    "    spatial_dims=3,\n",
    "    in_channels=1,\n",
    "    out_channels=2,\n",
    "    channels=(16, 32, 64, 128),\n",
    "    strides=(2, 2, 2)\n",
    ").to(device)\n",
    "\n",
    "model3 = UNet(\n",
    "  spatial_dims=3,\n",
    "  in_channels=1,\n",
    "  out_channels=2,\n",
    "  channels=(16, 32, 64, 128),\n",
    "  strides=(2, 2, 2),\n",
    "  num_res_units=2,\n",
    "  norm=Norm.BATCH,\n",
    ").to(device)\n",
    "\n",
    "model4 = SegResNet(\n",
    "    spatial_dims=3,\n",
    "    in_channels=1,\n",
    "    out_channels=2,\n",
    "    init_filters=8,\n",
    "    blocks_down=(1, 2, 2, 4),\n",
    "    blocks_up=(1, 1, 1),\n",
    "    upsample_mode=\"deconv\",\n",
    "    dropout_prob=0.2\n",
    ").to(device)\n",
    "\n",
    "model5 = VNet(\n",
    "    spatial_dims=3,\n",
    "    in_channels=1,\n",
    "    out_channels=2,\n",
    "    dropout_prob_down=0.5,\n",
    "    dropout_prob_up=(0.5, 0.5),\n",
    "    dropout_dim=3,\n",
    "    bias=False\n",
    ").to(device)"
   ]
  },
  {
   "cell_type": "code",
   "execution_count": null,
   "id": "bc01fc53b8db27f4",
   "metadata": {},
   "outputs": [],
   "source": [
    "# Current working directory\n",
    "cwd = Path.cwd()\n",
    "\n",
    "model1_path = cwd.parent / 'trained_models/post_training_UNETR_128_128_32'\n",
    "model2_path = cwd.parent / 'trained_models/post_training_AttentionUNet_128_128_32'\n",
    "model3_path = cwd.parent / 'trained_models/post_training_UNet_128_128_32'\n",
    "model4_path = cwd.parent / 'trained_models/post_training_SegResNet_128_128_32'\n",
    "model5_path = cwd.parent / 'trained_models/post_training_VNet_128_128_32'\n",
    "\n",
    "# Load the models\n",
    "model1.load_state_dict(torch.load(os.path.join(model1_path, 'best_metric_model.pth')))\n",
    "model2.load_state_dict(torch.load(os.path.join(model2_path, 'best_metric_model.pth')))\n",
    "model3.load_state_dict(torch.load(os.path.join(model3_path, 'best_metric_model.pth')))\n",
    "model4.load_state_dict(torch.load(os.path.join(model4_path, 'best_metric_model.pth')))\n",
    "model5.load_state_dict(torch.load(os.path.join(model5_path, 'best_metric_model.pth')))\n",
    "\n",
    "# Set models to evaluation mode\n",
    "model1.eval()\n",
    "model2.eval()\n",
    "model3.eval()\n",
    "model4.eval()\n",
    "model5.eval()"
   ]
  },
  {
   "cell_type": "markdown",
   "id": "5d98c3b9",
   "metadata": {},
   "source": [
    "##### Inferencing on the test data"
   ]
  },
  {
   "cell_type": "code",
   "execution_count": 37,
   "id": "0d5fe692",
   "metadata": {},
   "outputs": [
    {
     "name": "stdout",
     "output_type": "stream",
     "text": [
      "Skipping Hausdorff computation due to empty prediction or label.\n",
      "Skipping Hausdorff computation due to empty prediction or label.\n",
      "False negatives: 624177/153092096\n",
      "False positives: 775150/153092096\n",
      "Correct negatives: 138595321/139370471\n",
      "Correct positives: 13097448/13721625\n"
     ]
    }
   ],
   "source": [
    "# Initialize some variables for the metrics\n",
    "true_negative_pixels = 0\n",
    "true_positive_pixels = 0\n",
    "false_negative_pixels = 0\n",
    "false_positive_pixels = 0\n",
    "total_pixels = 0\n",
    "total_positive_pixels = 0\n",
    "total_negative_pixels = 0\n",
    "dice_coeff = 0\n",
    "IoU = 0\n",
    "\n",
    "# Prepare loss and activation outside the loop\n",
    "dice_loss = DiceLoss(to_onehot_y=True, sigmoid=True, squared_pred=True)\n",
    "sigmoid_func = Activations(sigmoid=True)\n",
    "\n",
    "# For Hausdorff Distance\n",
    "hausdorff_metric = HausdorffDistanceMetric(include_background=False, distance_metric='euclidean', percentile=95.0)\n",
    "\n",
    "# For confusion matrix (flattened arrays)\n",
    "all_preds = []\n",
    "all_labels = []\n",
    "\n",
    "# Infer for all the patients of the validation set\n",
    "with torch.no_grad():\n",
    "\n",
    "    for patient in validation_loader:\n",
    "        volume = patient['image'].to(device)\n",
    "        label = patient['label'].to(device)\n",
    "        label = label != 0\n",
    "\n",
    "        total_pixels += label.numel()\n",
    "\n",
    "        # Apply the models\n",
    "        #out1 = model1(volume)\n",
    "        #out2 = model2(volume)\n",
    "        out3 = model3(volume)\n",
    "        out4 = model4(volume)\n",
    "        out5 = model5(volume)\n",
    "\n",
    "        out = (out3 + out4 + out5) / 3.0\n",
    "\n",
    "        # Calculate the Dice coefficient\n",
    "        dice_coeff += 1 - dice_loss(out, label).item()\n",
    "\n",
    "        out = sigmoid_func(out)\n",
    "        out = out > 0.5\n",
    "\n",
    "        # Convert the tensor to numpy\n",
    "        out = out.detach().cpu().numpy()[0, 1]\n",
    "        label = label.detach().cpu().numpy()[0, 0]\n",
    "\n",
    "        # Append predictions and labels for confusion matrix\n",
    "        all_preds.extend(out.flatten())\n",
    "        all_labels.extend(label.flatten())\n",
    "        \n",
    "        # MONAI expects [B, C, H, W, D], so reshape to that\n",
    "        out_tensor = torch.tensor(out[None, None], dtype=torch.float32)\n",
    "        label_tensor = torch.tensor(label[None, None], dtype=torch.float32)\n",
    "        \n",
    "        if np.any(out) and np.any(label):\n",
    "            out_tensor = torch.tensor(out[None, None], dtype=torch.float32)\n",
    "            label_tensor = torch.tensor(label[None, None], dtype=torch.float32)\n",
    "            hausdorff_metric(y_pred=out_tensor, y=label_tensor)\n",
    "        else:\n",
    "            print(\"Skipping Hausdorff computation due to empty prediction or label.\")\n",
    "\n",
    "        # Calculate the IoU\n",
    "        intersection = np.sum((label != 0) & (out != 0))\n",
    "        union = np.sum((label != 0) | (out != 0))\n",
    "\n",
    "        if union != 0:\n",
    "            IoU += intersection / union\n",
    "\n",
    "        false_negative_pixels += np.sum((label != 0) & (out == 0))\n",
    "        false_positive_pixels += np.sum((label == 0) & (out != 0))\n",
    "\n",
    "        true_negative_pixels += np.sum((label == 0) & (out == 0))\n",
    "        true_positive_pixels += np.sum((label != 0) & (out != 0))\n",
    "\n",
    "        total_positive_pixels += np.sum(label != 0)\n",
    "        total_negative_pixels += np.sum(label == 0)\n",
    "\n",
    "print(f'False negatives: {false_negative_pixels}/{total_pixels}')\n",
    "print(f'False positives: {false_positive_pixels}/{total_pixels}')\n",
    "print(f'Correct negatives: {true_negative_pixels}/{total_negative_pixels}')\n",
    "print(f'Correct positives: {true_positive_pixels}/{total_positive_pixels}')"
   ]
  },
  {
   "cell_type": "markdown",
   "id": "4831723b",
   "metadata": {},
   "source": [
    "##### Printing the model metrics"
   ]
  },
  {
   "cell_type": "code",
   "execution_count": 38,
   "id": "90c7bbeb-c4e8-4bbd-9749-9686b24f7754",
   "metadata": {},
   "outputs": [
    {
     "name": "stdout",
     "output_type": "stream",
     "text": [
      "Dice coefficient: 0.9505\n",
      "IoU score: 0.845\n",
      "Recall: 0.9545\n",
      "Precision: 0.9441\n",
      "F2 score: 0.9524\n",
      "Hausdorff Distance (95%): 6.6312\n"
     ]
    }
   ],
   "source": [
    "num_samples = len(validation_loader)\n",
    "print(f'Dice coefficient: {round(dice_coeff / num_samples, 4)}')\n",
    "print(f'IoU score: {round(IoU / num_samples, 4)}')\n",
    "\n",
    "precision = true_positive_pixels / (true_positive_pixels + false_positive_pixels + 1e-8)\n",
    "recall = true_positive_pixels / (true_positive_pixels + false_negative_pixels + 1e-8)\n",
    "f2_score = (5 * precision * recall) / (4 * precision + recall + 1e-8)\n",
    "\n",
    "print(f'Recall: {round(recall, 4)}')\n",
    "print(f'Precision: {round(precision, 4)}')\n",
    "print(f'F2 score: {round(f2_score, 4)}')\n",
    "\n",
    "# Compute average Hausdorff distance\n",
    "hausdorff = hausdorff_metric.aggregate().item()\n",
    "print(f'Hausdorff Distance (95%): {round(hausdorff, 4)}')"
   ]
  },
  {
   "cell_type": "markdown",
   "id": "07eabf8b-fe13-4e50-89b1-c7f04bd58a50",
   "metadata": {},
   "source": [
    "##### Ploting the confusion matrix"
   ]
  },
  {
   "cell_type": "code",
   "execution_count": 39,
   "id": "2032d6b1-4c4f-46ab-a77b-786a7d997361",
   "metadata": {},
   "outputs": [
    {
     "name": "stdout",
     "output_type": "stream",
     "text": [
      "Confusion matrix saved as 'confusion_matrix.png'\n"
     ]
    },
    {
     "data": {
      "image/png": "[encoded data removed]",
      "text/plain": [
       "<Figure size 600x500 with 2 Axes>"
      ]
     },
     "metadata": {},
     "output_type": "display_data"
    }
   ],
   "source": [
    "# Confusion matrix\n",
    "cm = confusion_matrix(all_labels, all_preds)\n",
    "plt.figure(figsize=(6, 5))\n",
    "sns.heatmap(cm, annot=True, fmt=\"d\", cmap=\"Blues\", xticklabels=[\"Background\", \"Liver\"], yticklabels=[\"Background\", \"Liver\"])\n",
    "plt.xlabel(\"Predicted\")\n",
    "plt.ylabel(\"True\")\n",
    "plt.title(\"Confusion Matrix\")\n",
    "plt.tight_layout()\n",
    "plt.savefig(\"confusion_matrix_ensemble.png\")\n",
    "print(\"Confusion matrix saved as 'confusion_matrix_ensemble.png'\")"
   ]
  },
  {
   "cell_type": "markdown",
   "id": "91213a800d1759e1",
   "metadata": {},
   "source": [
    "##### Plotting the metrics and losses after training"
   ]
  },
  {
   "cell_type": "code",
   "execution_count": null,
   "id": "aae15a19788ad3ae",
   "metadata": {},
   "outputs": [],
   "source": [
    "train_loss = np.load(os.path.join(model_path, 'train_loss.npy'))\n",
    "test_loss = np.load(os.path.join(model_path, 'test_loss.npy'))\n",
    "\n",
    "train_metric = np.load(os.path.join(model_path, 'train_metric.npy'))\n",
    "test_metric = np.load(os.path.join(model_path, 'test_metric.npy'))\n",
    "\n",
    "print(len(train_metric))\n",
    "\n",
    "# Plot the loss and metric\n",
    "plt.figure(figsize=(24, 12))\n",
    "plt.subplot(2, 2, 1)\n",
    "plt.title('Train Loss')\n",
    "x = [i + 1 for i in range(len(train_loss))]\n",
    "y = train_loss\n",
    "plt.xlabel('Epoch')\n",
    "plt.plot(x, y)\n",
    "\n",
    "plt.subplot(2, 2, 2)\n",
    "plt.title('Train Metric')\n",
    "x = [i + 1 for i in range(len(train_metric))]\n",
    "y = train_metric\n",
    "plt.xlabel('Epoch')\n",
    "plt.plot(x, y)\n",
    "\n",
    "plt.subplot(2, 2, 3)\n",
    "plt.title('Test Loss')\n",
    "x = [i + 1 for i in range(len(test_loss))]\n",
    "y = test_loss\n",
    "plt.xlabel('Epoch')\n",
    "plt.plot(x, y)\n",
    "\n",
    "plt.subplot(2, 2, 4)\n",
    "plt.title('Test Metric')\n",
    "x = [i + 1 for i in range(len(test_metric))]\n",
    "y = test_metric\n",
    "plt.xlabel('Epoch')\n",
    "plt.plot(x, y)\n",
    "\n",
    "plt.savefig('trainig_evolution.png')\n",
    "plt.show()"
   ]
  },
  {
   "cell_type": "code",
   "execution_count": null,
   "id": "a50bc7a3-a794-45ce-a7c4-7b914c8428ae",
   "metadata": {},
   "outputs": [],
   "source": []
  }
 ],
 "metadata": {
  "kernelspec": {
   "display_name": "Python (liver-segmentation)",
   "language": "python",
   "name": "liver-segmentation"
  },
  "language_info": {
   "codemirror_mode": {
    "name": "ipython",
    "version": 3
   },
   "file_extension": ".py",
   "mimetype": "text/x-python",
   "name": "python",
   "nbconvert_exporter": "python",
   "pygments_lexer": "ipython3",
   "version": "3.10.18"
  }
 },
 "nbformat": 4,
 "nbformat_minor": 5
}
